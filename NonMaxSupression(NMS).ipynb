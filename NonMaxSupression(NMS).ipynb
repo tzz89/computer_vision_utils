{
  "nbformat": 4,
  "nbformat_minor": 0,
  "metadata": {
    "colab": {
      "name": "NonMaxSupression(NMS).ipynb",
      "provenance": [],
      "collapsed_sections": []
    },
    "kernelspec": {
      "name": "python3",
      "display_name": "Python 3"
    },
    "language_info": {
      "name": "python"
    }
  },
  "cells": [
    {
      "cell_type": "markdown",
      "metadata": {
        "id": "5891FM3cp5FA"
      },
      "source": [
        "## In this notebook, we are going to consolidate the common computer vision algorithms that are often use in the object detection pipeline\n",
        "1. Non Max Supression"
      ]
    },
    {
      "cell_type": "markdown",
      "metadata": {
        "id": "9jt2hh8HpybV"
      },
      "source": [
        "## Non Max supression\n",
        "NMS is a common strategy to reduce the number of bounding box.\n",
        "### References\n",
        "1. https://www.youtube.com/watch?v=VAo84c1hQX8\n",
        "\n",
        "### Steps \n",
        "1. Filter out all the low probability boxes\n",
        "2. Sort the bbox from highest confidence to lowest confidence\n",
        "3. From the highest confidence box, remove other boxes of the same class with high IOU"
      ]
    },
    {
      "cell_type": "markdown",
      "metadata": {
        "id": "fCCsrcKRuOaa"
      },
      "source": [
        "## Torch"
      ]
    },
    {
      "cell_type": "code",
      "metadata": {
        "id": "m4BnAXwr1I1X"
      },
      "source": [
        "import torch"
      ],
      "execution_count": null,
      "outputs": []
    },
    {
      "cell_type": "code",
      "metadata": {
        "id": "Fc6d58Eu0ASd"
      },
      "source": [
        "def IOU_torch(box_preds, box_labels, format=\"xyxy\"):\n",
        "    '''\n",
        "    Calculates IOU for bboxes\n",
        "    '''\n",
        "    if format == \"xyxy\":\n",
        "        bbox1_x1 = box_preds[..., 0:1] # shape = (n, 1)\n",
        "        bbox1_y1 = box_preds[..., 1:2]\n",
        "        bbox1_x2 = box_preds[..., 2:3]\n",
        "        bbox1_y2 = box_preds[..., 3:4]\n",
        "        bbox2_x1 = box_labels[..., 0:1] \n",
        "        bbox2_y1 = box_labels[..., 1:2]\n",
        "        bbox2_x2 = box_labels[..., 2:3]\n",
        "        bbox2_y2 = box_labels[..., 3:4]\n",
        "\n",
        "    elif format == \"xywh\": #yoloV5 format\n",
        "        bbox1_x1 = box_preds[..., 0:1] - box_preds[..., 2:3] / 2\n",
        "        bbox1_y1 = box_preds[..., 1:2] - box_preds[..., 3:4] / 2\n",
        "        bbox1_x2 = box_preds[..., 0:1] + box_preds[..., 2:3] / 2\n",
        "        bbox1_y2 = box_preds[..., 1:2] + box_preds[..., 3:4] / 2\n",
        "\n",
        "        bbox2_x1 = box_labels[..., 0:1] - box_labels[..., 2:3] / 2\n",
        "        bbox2_y1 = box_labels[..., 1:2] - box_labels[..., 3:4] / 2\n",
        "        bbox2_x2 = box_labels[..., 0:1] + box_labels[..., 2:3] / 2\n",
        "        bbox2_y2 = box_labels[..., 1:2] + box_labels[..., 3:4] / 2\n",
        "\n",
        "    else:\n",
        "        raise NotImplementedError(\"This bbox format is not supported\")\n",
        "\n",
        "    bbox1_area =  (bbox1_x2-bbox1_x1) * (bbox1_y2-bbox1_y1)\n",
        "    bbox2_area =  (bbox2_x2-bbox2_x1) * (bbox2_y2-bbox2_y1)\n",
        "    \n",
        "    intersection_x1 = torch.max(bbox1_x1,bbox2_x1)\n",
        "    intersection_y1 = torch.max(bbox1_y1,bbox2_y1)\n",
        "    intersection_x2 = torch.min(bbox1_x2,bbox2_x2)\n",
        "    intersection_y2 = torch.min(bbox1_y2,bbox2_y2)\n",
        "\n",
        "    # if the box dont intersect, one or more of the difference will be negative\n",
        "    intersection_area = torch.clamp(intersection_x2-intersection_x1, min=0) * torch.clamp(intersection_y2-intersection_y1, min=0) \n",
        "\n",
        "    return intersection_area / (bbox1_area + bbox2_area- intersection_area + 1e-7) #epilson for stability"
      ],
      "execution_count": null,
      "outputs": []
    },
    {
      "cell_type": "code",
      "metadata": {
        "id": "PkE5qcS6pxy9"
      },
      "source": [
        "def non_max_supression(predictions, iou_threshold, confidence_threshold, box_format='xyxy'):\n",
        "    \"\"\"\n",
        "    prediction structure assumption = [[class, proba, x1,y1,x2,y2] ...]\n",
        "    \"\"\"\n",
        "\n",
        "    high_confidence_predictions = [pred for pred in predictions if pred[1]>=confidence_threshold]\n",
        "    sorted_predictions = sorted(high_confidence_predictions, key=lambda x:x[1], reverse=True)\n",
        "    bbox_after_nms = []\n",
        "\n",
        "    while sorted_predictions:\n",
        "        chosen_box = sorted_predictions.pop(0)\n",
        "        bbox_after_nms.append(chosen_box)\n",
        "\n",
        "        sorted_predictions = [pred for pred in sorted_predictions if ((pred[0]!=chosen_box[0]) or (IOU_torch(torch.tensor(pred[-4:]), torch.tensor(chosen_box[-4:]), format=box_format)<iou_threshold))]\n",
        "\n",
        "    return bbox_after_nms\n",
        "\n"
      ],
      "execution_count": null,
      "outputs": []
    },
    {
      "cell_type": "code",
      "metadata": {
        "id": "RXyESlUR0X71"
      },
      "source": [
        "t1_boxes = [\n",
        "            [1, 1, 0.5, 0.45, 0.4, 0.5],\n",
        "            [1, 0.8, 0.5, 0.5, 0.2, 0.4],\n",
        "            [1, 0.7, 0.25, 0.35, 0.3, 0.1],\n",
        "            [1, 0.05, 0.1, 0.1, 0.1, 0.1],\n",
        "        ]\n",
        "\n",
        "assert non_max_supression(t1_boxes,iou_threshold=0.2,confidence_threshold=7 / 20, box_format='xywh') == [[1, 1, 0.5, 0.45, 0.4, 0.5], [1, 0.7, 0.25, 0.35, 0.3, 0.1]], \"test_1 failed\""
      ],
      "execution_count": null,
      "outputs": []
    },
    {
      "cell_type": "code",
      "metadata": {
        "id": "gMXGTa-i1D2t"
      },
      "source": [
        ""
      ],
      "execution_count": null,
      "outputs": []
    }
  ]
}