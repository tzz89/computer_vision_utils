{
  "nbformat": 4,
  "nbformat_minor": 0,
  "metadata": {
    "colab": {
      "name": "IOU.ipynb",
      "provenance": [],
      "collapsed_sections": []
    },
    "kernelspec": {
      "name": "python3",
      "display_name": "Python 3"
    },
    "language_info": {
      "name": "python"
    }
  },
  "cells": [
    {
      "cell_type": "markdown",
      "source": [
        "## In this notebook, we will implement IOU that are used in many computer vision applications\n",
        "\n",
        "1. Batch/Vectorize implementation for efficiency\n",
        "\n",
        "### References\n",
        "https://pytorch.org/vision/stable/_modules/torchvision/ops/boxes.html#box_iou\n",
        "https://github.com/kuangliu/torchcv/blob/master/torchcv/utils/box.py \\\n",
        "https://github.com/kuangliu/torchcv/blob/master/torchcv/utils/box.py"
      ],
      "metadata": {
        "id": "WEPyl3y6IKmF"
      }
    },
    {
      "cell_type": "code",
      "execution_count": 1,
      "metadata": {
        "id": "c00zY7-AIILJ"
      },
      "outputs": [],
      "source": [
        "import torch\n",
        "from torch import Tensor"
      ]
    },
    {
      "cell_type": "code",
      "source": [
        "def box_area(boxes:Tensor)->Tensor:\n",
        "    \"\"\"\n",
        "    Calculates Area of the given boxes\n",
        "    boxes:Tensor[minibatch, 4] where coordinates are in xyxy format\n",
        "    return:Tensor[minibatch]\n",
        "    \"\"\"\n",
        "    return (boxes[:,2] - boxes[:,0]) * (boxes[:,3]-boxes[:,1]) \n",
        "\n",
        "\n",
        "\n",
        "def box_iou(boxes1:Tensor, boxes2:Tensor)->Tensor:\n",
        "    \"\"\"\n",
        "    inputs: Tensors [minibatch ,4] in xyxy format\n",
        "    calculates the IOU of all boxes against all boxes\n",
        "    if boxes1 contains N boxes and boxes2 contains M boxes\n",
        "    return Tensor [N, M, IOU]\n",
        "    \"\"\"\n",
        "\n",
        "    # calculate the intersection top left\n",
        "    # create a extra axis so boxes2 will be broadcast N times\n",
        "    # torch maxium will be the elementwise comparison\n",
        "\n",
        "    area_1 = box_area(boxes1)\n",
        "    area_2 = box_area(boxes2)\n",
        "\n",
        "    top_left_coords = torch.maximum(boxes1[:,None,:2], boxes2[:,:2])\n",
        "    btm_right_coords = torch.minimum(boxes1[:, None,2:4], boxes2[:,2:4])\n",
        "\n",
        "    height_width = torch.clamp(btm_right_coords-top_left_coords, min=0)     #[N,M,2] where 2 is width, height eg (2,4) or (-3,0), any negative value indicates no intersection\n",
        "    intersection = height_width[:,:,0] * height_width[:,:,1]  #[N,M]\n",
        "\n",
        "    area = area_1[:,None] + area_2 - intersection # [N,M] -[N,M]\n",
        "\n",
        "    return area/intersection\n",
        "    \n",
        "    \n",
        "    "
      ],
      "metadata": {
        "id": "BOZ0i1ErJBnj"
      },
      "execution_count": 6,
      "outputs": []
    }
  ]
}